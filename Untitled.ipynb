{
 "cells": [
  {
   "cell_type": "markdown",
   "id": "6a0d6409",
   "metadata": {},
   "source": [
    "Thinking about the telco-churn dataset, here are some questions we might initially have of the data:\n",
    "\n",
    "1. Do customers churn because their bills are too high?\n",
    "\n"
   ]
  },
  {
   "cell_type": "markdown",
   "id": "f04d26fc",
   "metadata": {},
   "source": [
    "H0: there is no churn for bills too high or too low\n",
    "\n",
    "Ha: higher bills results in churn\n",
    "\n",
    "confidence interval: .95\n",
    "\n",
    "significance level: .05\n",
    "\n",
    "reject H0\n"
   ]
  },
  {
   "cell_type": "markdown",
   "id": "f01d6090",
   "metadata": {},
   "source": [
    "2. Is their internet too slow? Maybe there's something wrong with certain internet options?"
   ]
  },
  {
   "cell_type": "markdown",
   "id": "5348e0ce",
   "metadata": {},
   "source": [
    "Exercises\n",
    "\n",
    "For each of the following questions, formulate a null and alternative hypothesis (be as specific as you can be), then give an example of what a true positive, true negative, type I and type II errors would look like. Note that some of the questions are intentionally phrased in a vague way. It is your job to reword these as more precise questions that could be tested."
   ]
  },
  {
   "cell_type": "markdown",
   "id": "019c7d22",
   "metadata": {},
   "source": [
    "Has the network latency gone up since we switched internet service providers?"
   ]
  },
  {
   "cell_type": "markdown",
   "id": "3eb262c2",
   "metadata": {},
   "source": [
    "population: all devices connected to company's internet service.\n",
    "\n",
    "sample: all devices in the data science department\n",
    "\n",
    "H0: there is no change in latency when switching internet providers\n",
    "\n",
    "H1: there is a increase in latency when switching internet providers\n",
    "\n",
    "confidence interval(B): .95\n",
    "\n",
    "significance level(a): 1 - B = .05\n",
    "\n",
    "p-value: if p-value < a then reject H0\n",
    "         else fail to reject H0   \n",
    "\n",
    "true positive: H0 is false, reject H0\n",
    "\n",
    "true negative: H0 is true, fail to reject H0\n",
    "\n",
    "type I error (false positive): rejected H0, but should have failed to reject H0\n",
    "\n",
    "type II error(false negative): failed to reject H0, but should have rejected H0"
   ]
  },
  {
   "cell_type": "markdown",
   "id": "0243e2cf",
   "metadata": {},
   "source": [
    "Is the website redesign any good?"
   ]
  },
  {
   "cell_type": "markdown",
   "id": "fc8a3e80",
   "metadata": {},
   "source": [
    "new question: Is there a change in the amount of customer visits when the website is redesigned?\n",
    "\n",
    "population: all tab and menu option links within the company's website\n",
    "\n",
    "sample: homepage of the company's website\n",
    "\n",
    "H0: there is no a change in the amount of customer visits when the website is redesigned\n",
    "\n",
    "H1: there is a greater amount of customer visits when the website is redesigned\n",
    "\n",
    "confidence interval(B): .99\n",
    "\n",
    "significance level(a): 1 - B = .01\n",
    "\n",
    "p-value: if p < a then reject H0\n",
    "         else fail to reject H0   \n",
    "\n",
    "true positive: H0 is false, reject H0\n",
    "\n",
    "true negative: H0 is true, fail to reject H0\n",
    "\n",
    "type I error (false positive): rejected H0, but should have failed to reject H0\n",
    "\n",
    "type II error(false negative): failed to reject H0, but should have rejected H0"
   ]
  },
  {
   "cell_type": "markdown",
   "id": "a17e5de2",
   "metadata": {},
   "source": [
    "Is our television ad driving more sales?"
   ]
  },
  {
   "cell_type": "markdown",
   "id": "d7d924ce",
   "metadata": {},
   "source": [
    "new question: Do television ads drive more sales than social media ads?\n",
    "\n",
    "population: all ads produced by a company\n",
    "\n",
    "sample: television and social media ads in the past year\n",
    "\n",
    "H0: there is no difference in sales between television and social media ads\n",
    "\n",
    "H1: social media ads drive more sales\n",
    "\n",
    "confidence interval(B): .99\n",
    "\n",
    "significance level(a): 1 - B = .01\n",
    "\n",
    "p-value: if p < a then reject H0\n",
    "         else fail to reject H0   \n",
    "\n",
    "true positive: H0 is false, reject H0\n",
    "\n",
    "true negative: H0 is true, fail to reject H0\n",
    "\n",
    "type I error (false positive): rejected H0, but should have failed to reject H0\n",
    "\n",
    "type II error(false negative): failed to reject H0, but should have rejected H0"
   ]
  },
  {
   "cell_type": "code",
   "execution_count": null,
   "id": "a81158cc",
   "metadata": {},
   "outputs": [],
   "source": []
  },
  {
   "cell_type": "code",
   "execution_count": null,
   "id": "0b1b08af",
   "metadata": {},
   "outputs": [],
   "source": []
  }
 ],
 "metadata": {
  "kernelspec": {
   "display_name": "Python 3 (ipykernel)",
   "language": "python",
   "name": "python3"
  },
  "language_info": {
   "codemirror_mode": {
    "name": "ipython",
    "version": 3
   },
   "file_extension": ".py",
   "mimetype": "text/x-python",
   "name": "python",
   "nbconvert_exporter": "python",
   "pygments_lexer": "ipython3",
   "version": "3.10.9"
  }
 },
 "nbformat": 4,
 "nbformat_minor": 5
}
