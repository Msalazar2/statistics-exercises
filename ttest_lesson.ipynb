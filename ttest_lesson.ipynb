{
 "cells": [
  {
   "cell_type": "code",
   "execution_count": 1,
   "id": "9479fe32",
   "metadata": {},
   "outputs": [],
   "source": [
    "import pandas as pd\n",
    "import matplotlib.pyplot as plt\n",
    "\n",
    "from scipy import stats\n",
    "from pydataset import data"
   ]
  },
  {
   "cell_type": "code",
   "execution_count": 2,
   "id": "710b700c",
   "metadata": {},
   "outputs": [
    {
     "data": {
      "text/html": [
       "<div>\n",
       "<style scoped>\n",
       "    .dataframe tbody tr th:only-of-type {\n",
       "        vertical-align: middle;\n",
       "    }\n",
       "\n",
       "    .dataframe tbody tr th {\n",
       "        vertical-align: top;\n",
       "    }\n",
       "\n",
       "    .dataframe thead th {\n",
       "        text-align: right;\n",
       "    }\n",
       "</style>\n",
       "<table border=\"1\" class=\"dataframe\">\n",
       "  <thead>\n",
       "    <tr style=\"text-align: right;\">\n",
       "      <th></th>\n",
       "      <th>total_bill</th>\n",
       "      <th>tip</th>\n",
       "      <th>sex</th>\n",
       "      <th>smoker</th>\n",
       "      <th>day</th>\n",
       "      <th>time</th>\n",
       "      <th>size</th>\n",
       "    </tr>\n",
       "  </thead>\n",
       "  <tbody>\n",
       "    <tr>\n",
       "      <th>1</th>\n",
       "      <td>16.99</td>\n",
       "      <td>1.01</td>\n",
       "      <td>Female</td>\n",
       "      <td>No</td>\n",
       "      <td>Sun</td>\n",
       "      <td>Dinner</td>\n",
       "      <td>2</td>\n",
       "    </tr>\n",
       "    <tr>\n",
       "      <th>2</th>\n",
       "      <td>10.34</td>\n",
       "      <td>1.66</td>\n",
       "      <td>Male</td>\n",
       "      <td>No</td>\n",
       "      <td>Sun</td>\n",
       "      <td>Dinner</td>\n",
       "      <td>3</td>\n",
       "    </tr>\n",
       "    <tr>\n",
       "      <th>3</th>\n",
       "      <td>21.01</td>\n",
       "      <td>3.50</td>\n",
       "      <td>Male</td>\n",
       "      <td>No</td>\n",
       "      <td>Sun</td>\n",
       "      <td>Dinner</td>\n",
       "      <td>3</td>\n",
       "    </tr>\n",
       "    <tr>\n",
       "      <th>4</th>\n",
       "      <td>23.68</td>\n",
       "      <td>3.31</td>\n",
       "      <td>Male</td>\n",
       "      <td>No</td>\n",
       "      <td>Sun</td>\n",
       "      <td>Dinner</td>\n",
       "      <td>2</td>\n",
       "    </tr>\n",
       "    <tr>\n",
       "      <th>5</th>\n",
       "      <td>24.59</td>\n",
       "      <td>3.61</td>\n",
       "      <td>Female</td>\n",
       "      <td>No</td>\n",
       "      <td>Sun</td>\n",
       "      <td>Dinner</td>\n",
       "      <td>4</td>\n",
       "    </tr>\n",
       "  </tbody>\n",
       "</table>\n",
       "</div>"
      ],
      "text/plain": [
       "   total_bill   tip     sex smoker  day    time  size\n",
       "1       16.99  1.01  Female     No  Sun  Dinner     2\n",
       "2       10.34  1.66    Male     No  Sun  Dinner     3\n",
       "3       21.01  3.50    Male     No  Sun  Dinner     3\n",
       "4       23.68  3.31    Male     No  Sun  Dinner     2\n",
       "5       24.59  3.61  Female     No  Sun  Dinner     4"
      ]
     },
     "execution_count": 2,
     "metadata": {},
     "output_type": "execute_result"
    }
   ],
   "source": [
    "df = data('tips')\n",
    "df.head()"
   ]
  },
  {
   "cell_type": "markdown",
   "id": "c6486334",
   "metadata": {},
   "source": [
    "H0: size 2 parties tip the same amount as any party in my data set\n",
    "\n",
    "H1: size 2 parties tip a differnet amount from any party in my data set\n",
    "\n",
    "This will be a 1 sample, two tailed t-test!"
   ]
  },
  {
   "cell_type": "code",
   "execution_count": 4,
   "id": "fa2abf49",
   "metadata": {},
   "outputs": [
    {
     "data": {
      "text/plain": [
       "2.99827868852459"
      ]
     },
     "execution_count": 4,
     "metadata": {},
     "output_type": "execute_result"
    }
   ],
   "source": [
    "#define population mean\n",
    "overall_tip = df.tip.mean()\n",
    "overall_tip"
   ]
  },
  {
   "cell_type": "code",
   "execution_count": 7,
   "id": "3a7efd7e",
   "metadata": {},
   "outputs": [],
   "source": [
    "#output is a distribution of values from sample \n",
    "tip_for_two = df[df['size'] == 2].tip"
   ]
  },
  {
   "cell_type": "code",
   "execution_count": 8,
   "id": "3edbf4d8",
   "metadata": {},
   "outputs": [
    {
     "data": {
      "text/plain": [
       "(-5.271912239283316, 4.4632473980137726e-07)"
      ]
     },
     "execution_count": 8,
     "metadata": {},
     "output_type": "execute_result"
    }
   ],
   "source": [
    "#sample distribution first the population mean\n",
    "t_two, p_two = stats.ttest_1samp(tip_for_two, overall_tip)\n",
    "t_two, p_two"
   ]
  },
  {
   "cell_type": "code",
   "execution_count": 17,
   "id": "619cde76",
   "metadata": {},
   "outputs": [
    {
     "data": {
      "text/plain": [
       "<matplotlib.legend.Legend at 0x1542b7650>"
      ]
     },
     "execution_count": 17,
     "metadata": {},
     "output_type": "execute_result"
    },
    {
     "data": {
      "image/png": "[encoded data removed]",
      "text/plain": [
       "<Figure size 640x480 with 1 Axes>"
      ]
     },
     "metadata": {},
     "output_type": "display_data"
    }
   ],
   "source": [
    "plt.hist(df.tip, label = 'population')\n",
    "plt.hist(tip_for_two, label = 'party of two')\n",
    "#line is population mean\n",
    "plt.vlines(overall_tip, 0, 80, color = 'firebrick')\n",
    "plt.xlabel('tip amount')\n",
    "plt.ylabel('frequency')\n",
    "plt.legend()"
   ]
  },
  {
   "cell_type": "code",
   "execution_count": 18,
   "id": "d7e50cc2",
   "metadata": {},
   "outputs": [
    {
     "name": "stdout",
     "output_type": "stream",
     "text": [
      "reject null hypothesis\n"
     ]
    }
   ],
   "source": [
    "a = .05\n",
    "\n",
    "if p_two < a:\n",
    "    \n",
    "    print('reject null hypothesis')\n",
    "    \n",
    "else:\n",
    "    \n",
    "    print('fail to reject null hypothesis')"
   ]
  },
  {
   "cell_type": "markdown",
   "id": "68655a6b",
   "metadata": {},
   "source": [
    "H0: guest for dinner pay less than or same amount as guests for lunch\n",
    "\n",
    "H1: guest for dinner pay more than guests for lunch\n",
    "\n",
    "this will be a 2 sample, 1 tailed t-test"
   ]
  },
  {
   "cell_type": "code",
   "execution_count": 29,
   "id": "8e4f6ac4",
   "metadata": {},
   "outputs": [
    {
     "data": {
      "text/plain": [
       "78     27.20\n",
       "79     22.76\n",
       "80     17.29\n",
       "81     19.44\n",
       "82     16.66\n",
       "83     10.07\n",
       "84     32.68\n",
       "85     15.98\n",
       "86     34.83\n",
       "87     13.03\n",
       "88     18.28\n",
       "89     24.71\n",
       "90     21.16\n",
       "118    10.65\n",
       "119    12.43\n",
       "120    24.08\n",
       "121    11.69\n",
       "122    13.42\n",
       "123    14.26\n",
       "124    15.95\n",
       "125    12.48\n",
       "126    29.80\n",
       "127     8.52\n",
       "128    14.52\n",
       "129    11.38\n",
       "130    22.82\n",
       "131    19.08\n",
       "132    20.27\n",
       "133    11.17\n",
       "134    12.26\n",
       "135    18.26\n",
       "136     8.51\n",
       "137    10.33\n",
       "138    14.15\n",
       "139    16.00\n",
       "140    13.16\n",
       "141    17.47\n",
       "142    34.30\n",
       "143    41.19\n",
       "144    27.05\n",
       "145    16.43\n",
       "146     8.35\n",
       "147    18.64\n",
       "148    11.87\n",
       "149     9.78\n",
       "150     7.51\n",
       "192    19.81\n",
       "193    28.44\n",
       "194    15.48\n",
       "195    16.58\n",
       "196     7.56\n",
       "197    10.34\n",
       "198    43.11\n",
       "199    13.00\n",
       "200    13.51\n",
       "201    18.71\n",
       "202    12.74\n",
       "203    13.00\n",
       "204    16.40\n",
       "205    20.53\n",
       "206    16.47\n",
       "221    12.16\n",
       "222    13.42\n",
       "223     8.58\n",
       "224    15.98\n",
       "225    13.42\n",
       "226    16.27\n",
       "227    10.09\n",
       "Name: total_bill, dtype: float64"
      ]
     },
     "execution_count": 29,
     "metadata": {},
     "output_type": "execute_result"
    }
   ],
   "source": [
    "lunch_bills = df[df.time == 'Lunch'].total_bill\n",
    "lunch_bills"
   ]
  },
  {
   "cell_type": "code",
   "execution_count": 23,
   "id": "a0017633",
   "metadata": {},
   "outputs": [],
   "source": [
    "dinner_bills = df[df.time == 'Dinner'].total_bill"
   ]
  },
  {
   "cell_type": "code",
   "execution_count": 26,
   "id": "7eca7bad",
   "metadata": {},
   "outputs": [
    {
     "data": {
      "text/plain": [
       "<matplotlib.legend.Legend at 0x1541af650>"
      ]
     },
     "execution_count": 26,
     "metadata": {},
     "output_type": "execute_result"
    },
    {
     "data": {
      "image/png": "[encoded data removed]",
      "text/plain": [
       "<Figure size 640x480 with 1 Axes>"
      ]
     },
     "metadata": {},
     "output_type": "display_data"
    }
   ],
   "source": [
    "plt.hist(lunch_bills, label = 'l_bills')\n",
    "plt.hist(dinner_bills, label = 'd_bills', alpha = .4)\n",
    "plt.legend()"
   ]
  },
  {
   "cell_type": "code",
   "execution_count": 28,
   "id": "8829c3aa",
   "metadata": {},
   "outputs": [
    {
     "data": {
      "text/plain": [
       "(2.8976375218366424, 0.004104621407595674)"
      ]
     },
     "execution_count": 28,
     "metadata": {},
     "output_type": "execute_result"
    }
   ],
   "source": [
    "t_time, p_time = stats.ttest_ind(dinner_bills, lunch_bills)\n",
    "t_time, p_time"
   ]
  },
  {
   "cell_type": "code",
   "execution_count": null,
   "id": "e1cfd2df",
   "metadata": {},
   "outputs": [],
   "source": [
    "a = .05\n",
    "\n",
    "if (t_time > 0) and (p.time / 2 < a):\n",
    "    \n",
    "    print('reject H0')\n",
    "    \n",
    "elif "
   ]
  }
 ],
 "metadata": {
  "kernelspec": {
   "display_name": "Python 3 (ipykernel)",
   "language": "python",
   "name": "python3"
  },
  "language_info": {
   "codemirror_mode": {
    "name": "ipython",
    "version": 3
   },
   "file_extension": ".py",
   "mimetype": "text/x-python",
   "name": "python",
   "nbconvert_exporter": "python",
   "pygments_lexer": "ipython3",
   "version": "3.11.3"
  }
 },
 "nbformat": 4,
 "nbformat_minor": 5
}
