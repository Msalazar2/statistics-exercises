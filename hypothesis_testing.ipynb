{
 "cells": [
  {
   "cell_type": "markdown",
   "id": "5348e0ce",
   "metadata": {},
   "source": [
    "Exercises\n",
    "\n",
    "For each of the following questions, formulate a null and alternative hypothesis (be as specific as you can be), then give an example of what a true positive, true negative, type I and type II errors would look like. Note that some of the questions are intentionally phrased in a vague way. It is your job to reword these as more precise questions that could be tested."
   ]
  },
  {
   "cell_type": "markdown",
   "id": "019c7d22",
   "metadata": {},
   "source": [
    "Has the network latency gone up since we switched internet service providers?"
   ]
  },
  {
   "cell_type": "markdown",
   "id": "3eb262c2",
   "metadata": {},
   "source": [
    "population: all devices connected to company's internet service.\n",
    "\n",
    "sample: all devices in the data science department\n",
    "\n",
    "H0: there is no change in latency when switching internet providers\n",
    "\n",
    "H1: there is a increase in latency when switching internet providers\n",
    "\n",
    "confidence interval(B): .95\n",
    "\n",
    "significance level(a): 1 - B = .05\n",
    "\n",
    "p-value: if p-value < a then reject H0\n",
    "         else fail to reject H0   \n",
    "\n",
    "true positive: H0 is false, reject H0\n",
    "\n",
    "true negative: H0 is true, fail to reject H0\n",
    "\n",
    "type I error (false positive): rejected H0, but should have failed to reject H0\n",
    "\n",
    "type II error(false negative): failed to reject H0, but should have rejected H0"
   ]
  },
  {
   "cell_type": "markdown",
   "id": "0243e2cf",
   "metadata": {},
   "source": [
    "Is the website redesign any good?"
   ]
  },
  {
   "cell_type": "markdown",
   "id": "fc8a3e80",
   "metadata": {},
   "source": [
    "new question: Is there a change in the amount of customer visits when the website is redesigned?\n",
    "\n",
    "population: all tab and menu option links within the company's website\n",
    "\n",
    "sample: homepage of the company's website\n",
    "\n",
    "H0: there is no a change in the amount of customer visits when the website is redesigned\n",
    "\n",
    "H1: there is a greater amount of customer visits when the website is redesigned\n",
    "\n",
    "confidence interval(B): .99\n",
    "\n",
    "significance level(a): 1 - B = .01\n",
    "\n",
    "p-value: if p < a then reject H0\n",
    "         else fail to reject H0   \n",
    "\n",
    "true positive: H0 is false, reject H0\n",
    "\n",
    "true negative: H0 is true, fail to reject H0\n",
    "\n",
    "type I error (false positive): rejected H0, but should have failed to reject H0\n",
    "\n",
    "type II error(false negative): failed to reject H0, but should have rejected H0"
   ]
  },
  {
   "cell_type": "markdown",
   "id": "a17e5de2",
   "metadata": {},
   "source": [
    "Is our television ad driving more sales?"
   ]
  },
  {
   "cell_type": "markdown",
   "id": "d7d924ce",
   "metadata": {},
   "source": [
    "new question: Do television ads drive more sales than social media ads?\n",
    "\n",
    "population: all ads produced by a company\n",
    "\n",
    "sample: television and social media ads in the past year\n",
    "\n",
    "H0: there is no difference in sales between television and social media ads\n",
    "\n",
    "H1: social media ads drive more sales\n",
    "\n",
    "confidence interval(B): .99\n",
    "\n",
    "significance level(a): 1 - B = .01\n",
    "\n",
    "p-value: if p < a then reject H0\n",
    "         else fail to reject H0   \n",
    "\n",
    "true positive: H0 is false, reject H0\n",
    "\n",
    "true negative: H0 is true, fail to reject H0\n",
    "\n",
    "type I error (false positive): rejected H0, but should have failed to reject H0\n",
    "\n",
    "type II error(false negative): failed to reject H0, but should have rejected H0"
   ]
  },
  {
   "cell_type": "markdown",
   "id": "52ad7924",
   "metadata": {},
   "source": [
    "Exercises 2\n",
    "\n",
    "Use the following contingency table to help answer the question of whether using a macbook and being a codeup student are independent of each other.\n"
   ]
  },
  {
   "cell_type": "markdown",
   "id": "9b8e2f12",
   "metadata": {},
   "source": [
    "they are dependent. macbook users more likely to be a code up student."
   ]
  },
  {
   "cell_type": "markdown",
   "id": "6e1c1ca1",
   "metadata": {},
   "source": [
    "H0: mac ownership affects student status\n",
    "\n",
    "H1: mac ownership does not affect student status"
   ]
  },
  {
   "cell_type": "code",
   "execution_count": 129,
   "id": "7c40e73c",
   "metadata": {},
   "outputs": [],
   "source": [
    "m = np.array([[49, 20],\n",
    "       [1, 30]])\n",
    "chi, p , degf, exp = stats.chi2_contingency(m)"
   ]
  },
  {
   "cell_type": "code",
   "execution_count": 130,
   "id": "9559f140",
   "metadata": {},
   "outputs": [
    {
     "data": {
      "text/plain": [
       "1.4116760526193828e-09"
      ]
     },
     "execution_count": 130,
     "metadata": {},
     "output_type": "execute_result"
    }
   ],
   "source": [
    "p"
   ]
  },
  {
   "cell_type": "code",
   "execution_count": 131,
   "id": "3cd6d15a",
   "metadata": {},
   "outputs": [
    {
     "name": "stdout",
     "output_type": "stream",
     "text": [
      "we reject to null hypothesis. appears to have relationship\n"
     ]
    }
   ],
   "source": [
    "a = .05\n",
    "if p < a:\n",
    "    print('we reject to null hypothesis. appears to have relationship')\n",
    "else:\n",
    "    print('we fail to reject the null hypothesis')"
   ]
  },
  {
   "cell_type": "markdown",
   "id": "a99643b7",
   "metadata": {},
   "source": [
    "Choose another 2 categorical variables from the mpg dataset."
   ]
  },
  {
   "cell_type": "code",
   "execution_count": 2,
   "id": "e3fb796e",
   "metadata": {},
   "outputs": [],
   "source": [
    "import numpy as np\n",
    "import pandas as pd\n",
    "\n",
    "from pydataset import data\n",
    "from scipy import stats"
   ]
  },
  {
   "cell_type": "code",
   "execution_count": 3,
   "id": "71b2b42d",
   "metadata": {
    "scrolled": true
   },
   "outputs": [
    {
     "data": {
      "text/html": [
       "<div>\n",
       "<style scoped>\n",
       "    .dataframe tbody tr th:only-of-type {\n",
       "        vertical-align: middle;\n",
       "    }\n",
       "\n",
       "    .dataframe tbody tr th {\n",
       "        vertical-align: top;\n",
       "    }\n",
       "\n",
       "    .dataframe thead th {\n",
       "        text-align: right;\n",
       "    }\n",
       "</style>\n",
       "<table border=\"1\" class=\"dataframe\">\n",
       "  <thead>\n",
       "    <tr style=\"text-align: right;\">\n",
       "      <th></th>\n",
       "      <th>manufacturer</th>\n",
       "      <th>model</th>\n",
       "      <th>displ</th>\n",
       "      <th>year</th>\n",
       "      <th>cyl</th>\n",
       "      <th>trans</th>\n",
       "      <th>drv</th>\n",
       "      <th>cty</th>\n",
       "      <th>hwy</th>\n",
       "      <th>fl</th>\n",
       "      <th>class</th>\n",
       "    </tr>\n",
       "  </thead>\n",
       "  <tbody>\n",
       "    <tr>\n",
       "      <th>1</th>\n",
       "      <td>audi</td>\n",
       "      <td>a4</td>\n",
       "      <td>1.8</td>\n",
       "      <td>1999</td>\n",
       "      <td>4</td>\n",
       "      <td>auto(l5)</td>\n",
       "      <td>f</td>\n",
       "      <td>18</td>\n",
       "      <td>29</td>\n",
       "      <td>p</td>\n",
       "      <td>compact</td>\n",
       "    </tr>\n",
       "    <tr>\n",
       "      <th>2</th>\n",
       "      <td>audi</td>\n",
       "      <td>a4</td>\n",
       "      <td>1.8</td>\n",
       "      <td>1999</td>\n",
       "      <td>4</td>\n",
       "      <td>manual(m5)</td>\n",
       "      <td>f</td>\n",
       "      <td>21</td>\n",
       "      <td>29</td>\n",
       "      <td>p</td>\n",
       "      <td>compact</td>\n",
       "    </tr>\n",
       "    <tr>\n",
       "      <th>3</th>\n",
       "      <td>audi</td>\n",
       "      <td>a4</td>\n",
       "      <td>2.0</td>\n",
       "      <td>2008</td>\n",
       "      <td>4</td>\n",
       "      <td>manual(m6)</td>\n",
       "      <td>f</td>\n",
       "      <td>20</td>\n",
       "      <td>31</td>\n",
       "      <td>p</td>\n",
       "      <td>compact</td>\n",
       "    </tr>\n",
       "    <tr>\n",
       "      <th>4</th>\n",
       "      <td>audi</td>\n",
       "      <td>a4</td>\n",
       "      <td>2.0</td>\n",
       "      <td>2008</td>\n",
       "      <td>4</td>\n",
       "      <td>auto(av)</td>\n",
       "      <td>f</td>\n",
       "      <td>21</td>\n",
       "      <td>30</td>\n",
       "      <td>p</td>\n",
       "      <td>compact</td>\n",
       "    </tr>\n",
       "    <tr>\n",
       "      <th>5</th>\n",
       "      <td>audi</td>\n",
       "      <td>a4</td>\n",
       "      <td>2.8</td>\n",
       "      <td>1999</td>\n",
       "      <td>6</td>\n",
       "      <td>auto(l5)</td>\n",
       "      <td>f</td>\n",
       "      <td>16</td>\n",
       "      <td>26</td>\n",
       "      <td>p</td>\n",
       "      <td>compact</td>\n",
       "    </tr>\n",
       "  </tbody>\n",
       "</table>\n",
       "</div>"
      ],
      "text/plain": [
       "  manufacturer model  displ  year  cyl       trans drv  cty  hwy fl    class\n",
       "1         audi    a4    1.8  1999    4    auto(l5)   f   18   29  p  compact\n",
       "2         audi    a4    1.8  1999    4  manual(m5)   f   21   29  p  compact\n",
       "3         audi    a4    2.0  2008    4  manual(m6)   f   20   31  p  compact\n",
       "4         audi    a4    2.0  2008    4    auto(av)   f   21   30  p  compact\n",
       "5         audi    a4    2.8  1999    6    auto(l5)   f   16   26  p  compact"
      ]
     },
     "execution_count": 3,
     "metadata": {},
     "output_type": "execute_result"
    }
   ],
   "source": [
    "mpg = data('mpg')\n",
    "mpg.head()"
   ]
  },
  {
   "cell_type": "code",
   "execution_count": 17,
   "id": "99828067",
   "metadata": {},
   "outputs": [],
   "source": [
    "mpg['hwy_mpg'] = pd.qcut(mpg.hwy, 2, labels = ['high_hwy', 'low_hwy'] )"
   ]
  },
  {
   "cell_type": "code",
   "execution_count": 37,
   "id": "4e71f0a0",
   "metadata": {},
   "outputs": [],
   "source": [
    "mpg['trans_type'] = np.where(mpg.trans.str.startswith('a'), 'auto', 'manual')"
   ]
  },
  {
   "cell_type": "code",
   "execution_count": 46,
   "id": "7ded25f5",
   "metadata": {
    "scrolled": true
   },
   "outputs": [
    {
     "data": {
      "text/html": [
       "<div>\n",
       "<style scoped>\n",
       "    .dataframe tbody tr th:only-of-type {\n",
       "        vertical-align: middle;\n",
       "    }\n",
       "\n",
       "    .dataframe tbody tr th {\n",
       "        vertical-align: top;\n",
       "    }\n",
       "\n",
       "    .dataframe thead th {\n",
       "        text-align: right;\n",
       "    }\n",
       "</style>\n",
       "<table border=\"1\" class=\"dataframe\">\n",
       "  <thead>\n",
       "    <tr style=\"text-align: right;\">\n",
       "      <th>hwy</th>\n",
       "      <th>high_hwy</th>\n",
       "      <th>low_hwy</th>\n",
       "    </tr>\n",
       "    <tr>\n",
       "      <th>trans_type</th>\n",
       "      <th></th>\n",
       "      <th></th>\n",
       "    </tr>\n",
       "  </thead>\n",
       "  <tbody>\n",
       "    <tr>\n",
       "      <th>auto</th>\n",
       "      <td>93</td>\n",
       "      <td>64</td>\n",
       "    </tr>\n",
       "    <tr>\n",
       "      <th>manual</th>\n",
       "      <td>25</td>\n",
       "      <td>52</td>\n",
       "    </tr>\n",
       "  </tbody>\n",
       "</table>\n",
       "</div>"
      ],
      "text/plain": [
       "hwy         high_hwy  low_hwy\n",
       "trans_type                   \n",
       "auto              93       64\n",
       "manual            25       52"
      ]
     },
     "execution_count": 46,
     "metadata": {},
     "output_type": "execute_result"
    }
   ],
   "source": [
    "ct = pd.crosstab(mpg.trans_type, mpg.hwy_mpg)\n",
    "ct"
   ]
  },
  {
   "cell_type": "markdown",
   "id": "342b8c64",
   "metadata": {},
   "source": [
    "State your null and alternative hypotheses."
   ]
  },
  {
   "cell_type": "markdown",
   "id": "449324bc",
   "metadata": {},
   "source": [
    "H0: transmission does not affect highway mpg\n",
    "\n",
    "H1: transmission does affect highway mpg"
   ]
  },
  {
   "cell_type": "markdown",
   "id": "4ca798c5",
   "metadata": {},
   "source": [
    "State your alpha."
   ]
  },
  {
   "cell_type": "code",
   "execution_count": 42,
   "id": "161431bb",
   "metadata": {},
   "outputs": [],
   "source": [
    "a = .05"
   ]
  },
  {
   "cell_type": "markdown",
   "id": "577b9fed",
   "metadata": {},
   "source": [
    "Perform a \n",
    "c\n",
    "h\n",
    "i\n",
    "2\n",
    " test of indepedence."
   ]
  },
  {
   "cell_type": "code",
   "execution_count": 45,
   "id": "8aca5f6c",
   "metadata": {},
   "outputs": [
    {
     "data": {
      "text/plain": [
       "0.00020807042407273567"
      ]
     },
     "execution_count": 45,
     "metadata": {},
     "output_type": "execute_result"
    }
   ],
   "source": [
    "chi, p , degf, exp = stats.chi2_contingency(ct)\n",
    "p"
   ]
  },
  {
   "cell_type": "code",
   "execution_count": 44,
   "id": "8e74ee68",
   "metadata": {},
   "outputs": [
    {
     "name": "stdout",
     "output_type": "stream",
     "text": [
      "we reject to null hypothesis. appears to have relationship\n"
     ]
    }
   ],
   "source": [
    "a = .05\n",
    "if p < a:\n",
    "    print('we reject to null hypothesis. appears to have relationship')\n",
    "else:\n",
    "    print('we fail to reject the null hypothesis')"
   ]
  },
  {
   "cell_type": "markdown",
   "id": "49f4cf12",
   "metadata": {},
   "source": [
    "Use the data from the employees database to answer these questions:\n"
   ]
  },
  {
   "cell_type": "code",
   "execution_count": 48,
   "id": "f26fb878",
   "metadata": {},
   "outputs": [],
   "source": [
    "from sqlalchemy import text, create_engine\n",
    "\n",
    "from env import get_connection"
   ]
  },
  {
   "cell_type": "code",
   "execution_count": 53,
   "id": "56c84985",
   "metadata": {},
   "outputs": [],
   "source": [
    "url = get_connection('employees')"
   ]
  },
  {
   "cell_type": "code",
   "execution_count": 54,
   "id": "a9e3f65a",
   "metadata": {},
   "outputs": [],
   "source": [
    "engine = create_engine(url)"
   ]
  },
  {
   "cell_type": "code",
   "execution_count": 105,
   "id": "702b943f",
   "metadata": {},
   "outputs": [],
   "source": [
    "query = '''\n",
    "        SELECT *\n",
    "        FROM employees\n",
    "        INNER JOIN dept_emp ON dept_emp.emp_no = employees.emp_no\n",
    "        INNER JOIN departments ON dept_emp.dept_no = departments.dept_no\n",
    "        '''"
   ]
  },
  {
   "cell_type": "code",
   "execution_count": 106,
   "id": "85ed771c",
   "metadata": {},
   "outputs": [],
   "source": [
    "text_query= text(query)"
   ]
  },
  {
   "cell_type": "code",
   "execution_count": 107,
   "id": "d55ec7e7",
   "metadata": {
    "scrolled": true
   },
   "outputs": [
    {
     "data": {
      "text/html": [
       "<div>\n",
       "<style scoped>\n",
       "    .dataframe tbody tr th:only-of-type {\n",
       "        vertical-align: middle;\n",
       "    }\n",
       "\n",
       "    .dataframe tbody tr th {\n",
       "        vertical-align: top;\n",
       "    }\n",
       "\n",
       "    .dataframe thead th {\n",
       "        text-align: right;\n",
       "    }\n",
       "</style>\n",
       "<table border=\"1\" class=\"dataframe\">\n",
       "  <thead>\n",
       "    <tr style=\"text-align: right;\">\n",
       "      <th></th>\n",
       "      <th>emp_no</th>\n",
       "      <th>birth_date</th>\n",
       "      <th>first_name</th>\n",
       "      <th>last_name</th>\n",
       "      <th>gender</th>\n",
       "      <th>hire_date</th>\n",
       "      <th>emp_no</th>\n",
       "      <th>dept_no</th>\n",
       "      <th>from_date</th>\n",
       "      <th>to_date</th>\n",
       "      <th>dept_no</th>\n",
       "      <th>dept_name</th>\n",
       "    </tr>\n",
       "  </thead>\n",
       "  <tbody>\n",
       "    <tr>\n",
       "      <th>0</th>\n",
       "      <td>10011</td>\n",
       "      <td>1953-11-07</td>\n",
       "      <td>Mary</td>\n",
       "      <td>Sluis</td>\n",
       "      <td>F</td>\n",
       "      <td>1990-01-22</td>\n",
       "      <td>10011</td>\n",
       "      <td>d009</td>\n",
       "      <td>1990-01-22</td>\n",
       "      <td>1996-11-09</td>\n",
       "      <td>d009</td>\n",
       "      <td>Customer Service</td>\n",
       "    </tr>\n",
       "    <tr>\n",
       "      <th>1</th>\n",
       "      <td>10038</td>\n",
       "      <td>1960-07-20</td>\n",
       "      <td>Huan</td>\n",
       "      <td>Lortz</td>\n",
       "      <td>M</td>\n",
       "      <td>1989-09-20</td>\n",
       "      <td>10038</td>\n",
       "      <td>d009</td>\n",
       "      <td>1989-09-20</td>\n",
       "      <td>9999-01-01</td>\n",
       "      <td>d009</td>\n",
       "      <td>Customer Service</td>\n",
       "    </tr>\n",
       "    <tr>\n",
       "      <th>2</th>\n",
       "      <td>10049</td>\n",
       "      <td>1961-04-24</td>\n",
       "      <td>Basil</td>\n",
       "      <td>Tramer</td>\n",
       "      <td>F</td>\n",
       "      <td>1992-05-04</td>\n",
       "      <td>10049</td>\n",
       "      <td>d009</td>\n",
       "      <td>1992-05-04</td>\n",
       "      <td>9999-01-01</td>\n",
       "      <td>d009</td>\n",
       "      <td>Customer Service</td>\n",
       "    </tr>\n",
       "    <tr>\n",
       "      <th>3</th>\n",
       "      <td>10060</td>\n",
       "      <td>1961-10-15</td>\n",
       "      <td>Breannda</td>\n",
       "      <td>Billingsley</td>\n",
       "      <td>M</td>\n",
       "      <td>1987-11-02</td>\n",
       "      <td>10060</td>\n",
       "      <td>d009</td>\n",
       "      <td>1992-11-11</td>\n",
       "      <td>9999-01-01</td>\n",
       "      <td>d009</td>\n",
       "      <td>Customer Service</td>\n",
       "    </tr>\n",
       "    <tr>\n",
       "      <th>4</th>\n",
       "      <td>10088</td>\n",
       "      <td>1954-02-25</td>\n",
       "      <td>Jungsoon</td>\n",
       "      <td>Syrzycki</td>\n",
       "      <td>F</td>\n",
       "      <td>1988-09-02</td>\n",
       "      <td>10088</td>\n",
       "      <td>d009</td>\n",
       "      <td>1992-03-21</td>\n",
       "      <td>9999-01-01</td>\n",
       "      <td>d009</td>\n",
       "      <td>Customer Service</td>\n",
       "    </tr>\n",
       "  </tbody>\n",
       "</table>\n",
       "</div>"
      ],
      "text/plain": [
       "   emp_no  birth_date first_name    last_name gender   hire_date  emp_no  \\\n",
       "0   10011  1953-11-07       Mary        Sluis      F  1990-01-22   10011   \n",
       "1   10038  1960-07-20       Huan        Lortz      M  1989-09-20   10038   \n",
       "2   10049  1961-04-24      Basil       Tramer      F  1992-05-04   10049   \n",
       "3   10060  1961-10-15   Breannda  Billingsley      M  1987-11-02   10060   \n",
       "4   10088  1954-02-25   Jungsoon     Syrzycki      F  1988-09-02   10088   \n",
       "\n",
       "  dept_no   from_date     to_date dept_no         dept_name  \n",
       "0    d009  1990-01-22  1996-11-09    d009  Customer Service  \n",
       "1    d009  1989-09-20  9999-01-01    d009  Customer Service  \n",
       "2    d009  1992-05-04  9999-01-01    d009  Customer Service  \n",
       "3    d009  1992-11-11  9999-01-01    d009  Customer Service  \n",
       "4    d009  1992-03-21  9999-01-01    d009  Customer Service  "
      ]
     },
     "execution_count": 107,
     "metadata": {},
     "output_type": "execute_result"
    }
   ],
   "source": [
    "df = pd.read_sql(text_query, engine.connect())\n",
    "df.head()"
   ]
  },
  {
   "cell_type": "markdown",
   "id": "e0108589",
   "metadata": {},
   "source": [
    "Is an employee's gender independent of whether an employee works in sales or marketing? (only look at current employees)"
   ]
  },
  {
   "cell_type": "code",
   "execution_count": 83,
   "id": "deec8631",
   "metadata": {
    "scrolled": true
   },
   "outputs": [
    {
     "data": {
      "text/html": [
       "<div>\n",
       "<style scoped>\n",
       "    .dataframe tbody tr th:only-of-type {\n",
       "        vertical-align: middle;\n",
       "    }\n",
       "\n",
       "    .dataframe tbody tr th {\n",
       "        vertical-align: top;\n",
       "    }\n",
       "\n",
       "    .dataframe thead th {\n",
       "        text-align: right;\n",
       "    }\n",
       "</style>\n",
       "<table border=\"1\" class=\"dataframe\">\n",
       "  <thead>\n",
       "    <tr style=\"text-align: right;\">\n",
       "      <th></th>\n",
       "      <th>emp_no</th>\n",
       "      <th>birth_date</th>\n",
       "      <th>first_name</th>\n",
       "      <th>last_name</th>\n",
       "      <th>gender</th>\n",
       "      <th>hire_date</th>\n",
       "      <th>emp_no</th>\n",
       "      <th>dept_no</th>\n",
       "      <th>from_date</th>\n",
       "      <th>to_date</th>\n",
       "      <th>dept_no</th>\n",
       "      <th>dept_name</th>\n",
       "    </tr>\n",
       "  </thead>\n",
       "  <tbody>\n",
       "    <tr>\n",
       "      <th>144419</th>\n",
       "      <td>10017</td>\n",
       "      <td>1958-07-06</td>\n",
       "      <td>Cristinel</td>\n",
       "      <td>Bouloucos</td>\n",
       "      <td>F</td>\n",
       "      <td>1993-08-03</td>\n",
       "      <td>10017</td>\n",
       "      <td>d001</td>\n",
       "      <td>1993-08-03</td>\n",
       "      <td>9999-01-01</td>\n",
       "      <td>d001</td>\n",
       "      <td>Marketing</td>\n",
       "    </tr>\n",
       "    <tr>\n",
       "      <th>144420</th>\n",
       "      <td>10055</td>\n",
       "      <td>1956-06-06</td>\n",
       "      <td>Georgy</td>\n",
       "      <td>Dredge</td>\n",
       "      <td>M</td>\n",
       "      <td>1992-04-27</td>\n",
       "      <td>10055</td>\n",
       "      <td>d001</td>\n",
       "      <td>1992-04-27</td>\n",
       "      <td>1995-07-22</td>\n",
       "      <td>d001</td>\n",
       "      <td>Marketing</td>\n",
       "    </tr>\n",
       "    <tr>\n",
       "      <th>144421</th>\n",
       "      <td>10058</td>\n",
       "      <td>1954-10-01</td>\n",
       "      <td>Berhard</td>\n",
       "      <td>McFarlin</td>\n",
       "      <td>M</td>\n",
       "      <td>1987-04-13</td>\n",
       "      <td>10058</td>\n",
       "      <td>d001</td>\n",
       "      <td>1988-04-25</td>\n",
       "      <td>9999-01-01</td>\n",
       "      <td>d001</td>\n",
       "      <td>Marketing</td>\n",
       "    </tr>\n",
       "    <tr>\n",
       "      <th>144422</th>\n",
       "      <td>10108</td>\n",
       "      <td>1952-04-07</td>\n",
       "      <td>Lunjin</td>\n",
       "      <td>Giveon</td>\n",
       "      <td>M</td>\n",
       "      <td>1986-10-02</td>\n",
       "      <td>10108</td>\n",
       "      <td>d001</td>\n",
       "      <td>1999-12-06</td>\n",
       "      <td>2001-10-20</td>\n",
       "      <td>d001</td>\n",
       "      <td>Marketing</td>\n",
       "    </tr>\n",
       "    <tr>\n",
       "      <th>144423</th>\n",
       "      <td>10140</td>\n",
       "      <td>1957-03-11</td>\n",
       "      <td>Yucel</td>\n",
       "      <td>Auria</td>\n",
       "      <td>F</td>\n",
       "      <td>1991-03-14</td>\n",
       "      <td>10140</td>\n",
       "      <td>d001</td>\n",
       "      <td>1991-03-14</td>\n",
       "      <td>9999-01-01</td>\n",
       "      <td>d001</td>\n",
       "      <td>Marketing</td>\n",
       "    </tr>\n",
       "    <tr>\n",
       "      <th>...</th>\n",
       "      <td>...</td>\n",
       "      <td>...</td>\n",
       "      <td>...</td>\n",
       "      <td>...</td>\n",
       "      <td>...</td>\n",
       "      <td>...</td>\n",
       "      <td>...</td>\n",
       "      <td>...</td>\n",
       "      <td>...</td>\n",
       "      <td>...</td>\n",
       "      <td>...</td>\n",
       "      <td>...</td>\n",
       "    </tr>\n",
       "    <tr>\n",
       "      <th>331598</th>\n",
       "      <td>499976</td>\n",
       "      <td>1963-08-20</td>\n",
       "      <td>Guozhong</td>\n",
       "      <td>Felder</td>\n",
       "      <td>M</td>\n",
       "      <td>1988-12-26</td>\n",
       "      <td>499976</td>\n",
       "      <td>d007</td>\n",
       "      <td>1988-12-26</td>\n",
       "      <td>9999-01-01</td>\n",
       "      <td>d007</td>\n",
       "      <td>Sales</td>\n",
       "    </tr>\n",
       "    <tr>\n",
       "      <th>331599</th>\n",
       "      <td>499980</td>\n",
       "      <td>1959-06-28</td>\n",
       "      <td>Gino</td>\n",
       "      <td>Usery</td>\n",
       "      <td>M</td>\n",
       "      <td>1991-02-11</td>\n",
       "      <td>499980</td>\n",
       "      <td>d007</td>\n",
       "      <td>1991-02-11</td>\n",
       "      <td>9999-01-01</td>\n",
       "      <td>d007</td>\n",
       "      <td>Sales</td>\n",
       "    </tr>\n",
       "    <tr>\n",
       "      <th>331600</th>\n",
       "      <td>499986</td>\n",
       "      <td>1952-07-22</td>\n",
       "      <td>Nathan</td>\n",
       "      <td>Ranta</td>\n",
       "      <td>F</td>\n",
       "      <td>1985-08-11</td>\n",
       "      <td>499986</td>\n",
       "      <td>d007</td>\n",
       "      <td>1985-08-11</td>\n",
       "      <td>9999-01-01</td>\n",
       "      <td>d007</td>\n",
       "      <td>Sales</td>\n",
       "    </tr>\n",
       "    <tr>\n",
       "      <th>331601</th>\n",
       "      <td>499987</td>\n",
       "      <td>1961-09-05</td>\n",
       "      <td>Rimli</td>\n",
       "      <td>Dusink</td>\n",
       "      <td>F</td>\n",
       "      <td>1998-09-20</td>\n",
       "      <td>499987</td>\n",
       "      <td>d007</td>\n",
       "      <td>1999-12-21</td>\n",
       "      <td>9999-01-01</td>\n",
       "      <td>d007</td>\n",
       "      <td>Sales</td>\n",
       "    </tr>\n",
       "    <tr>\n",
       "      <th>331602</th>\n",
       "      <td>499988</td>\n",
       "      <td>1962-09-28</td>\n",
       "      <td>Bangqing</td>\n",
       "      <td>Kleiser</td>\n",
       "      <td>F</td>\n",
       "      <td>1986-06-06</td>\n",
       "      <td>499988</td>\n",
       "      <td>d007</td>\n",
       "      <td>1988-07-25</td>\n",
       "      <td>2001-10-09</td>\n",
       "      <td>d007</td>\n",
       "      <td>Sales</td>\n",
       "    </tr>\n",
       "  </tbody>\n",
       "</table>\n",
       "<p>72456 rows × 12 columns</p>\n",
       "</div>"
      ],
      "text/plain": [
       "        emp_no  birth_date first_name  last_name gender   hire_date  emp_no  \\\n",
       "144419   10017  1958-07-06  Cristinel  Bouloucos      F  1993-08-03   10017   \n",
       "144420   10055  1956-06-06     Georgy     Dredge      M  1992-04-27   10055   \n",
       "144421   10058  1954-10-01    Berhard   McFarlin      M  1987-04-13   10058   \n",
       "144422   10108  1952-04-07     Lunjin     Giveon      M  1986-10-02   10108   \n",
       "144423   10140  1957-03-11      Yucel      Auria      F  1991-03-14   10140   \n",
       "...        ...         ...        ...        ...    ...         ...     ...   \n",
       "331598  499976  1963-08-20   Guozhong     Felder      M  1988-12-26  499976   \n",
       "331599  499980  1959-06-28       Gino      Usery      M  1991-02-11  499980   \n",
       "331600  499986  1952-07-22     Nathan      Ranta      F  1985-08-11  499986   \n",
       "331601  499987  1961-09-05      Rimli     Dusink      F  1998-09-20  499987   \n",
       "331602  499988  1962-09-28   Bangqing    Kleiser      F  1986-06-06  499988   \n",
       "\n",
       "       dept_no   from_date     to_date dept_no  dept_name  \n",
       "144419    d001  1993-08-03  9999-01-01    d001  Marketing  \n",
       "144420    d001  1992-04-27  1995-07-22    d001  Marketing  \n",
       "144421    d001  1988-04-25  9999-01-01    d001  Marketing  \n",
       "144422    d001  1999-12-06  2001-10-20    d001  Marketing  \n",
       "144423    d001  1991-03-14  9999-01-01    d001  Marketing  \n",
       "...        ...         ...         ...     ...        ...  \n",
       "331598    d007  1988-12-26  9999-01-01    d007      Sales  \n",
       "331599    d007  1991-02-11  9999-01-01    d007      Sales  \n",
       "331600    d007  1985-08-11  9999-01-01    d007      Sales  \n",
       "331601    d007  1999-12-21  9999-01-01    d007      Sales  \n",
       "331602    d007  1988-07-25  2001-10-09    d007      Sales  \n",
       "\n",
       "[72456 rows x 12 columns]"
      ]
     },
     "execution_count": 83,
     "metadata": {},
     "output_type": "execute_result"
    }
   ],
   "source": [
    "sm = df[(df.dept_name == 'Sales') | (df.dept_name == 'Marketing')]\n",
    "sm"
   ]
  },
  {
   "cell_type": "code",
   "execution_count": 87,
   "id": "256c3db4",
   "metadata": {},
   "outputs": [],
   "source": [
    "sm = sm[sm.to_date == sm.to_date.max()]"
   ]
  },
  {
   "cell_type": "code",
   "execution_count": 77,
   "id": "ada5f2de",
   "metadata": {},
   "outputs": [
    {
     "data": {
      "text/plain": [
       "0         False\n",
       "1         False\n",
       "2         False\n",
       "3         False\n",
       "4         False\n",
       "          ...  \n",
       "331598    False\n",
       "331599    False\n",
       "331600    False\n",
       "331601    False\n",
       "331602    False\n",
       "Name: dept_name, Length: 331603, dtype: bool"
      ]
     },
     "execution_count": 77,
     "metadata": {},
     "output_type": "execute_result"
    }
   ],
   "source": [
    "df.dept_name == 'Marketing'"
   ]
  },
  {
   "cell_type": "code",
   "execution_count": 132,
   "id": "213b6818",
   "metadata": {},
   "outputs": [
    {
     "data": {
      "text/html": [
       "<div>\n",
       "<style scoped>\n",
       "    .dataframe tbody tr th:only-of-type {\n",
       "        vertical-align: middle;\n",
       "    }\n",
       "\n",
       "    .dataframe tbody tr th {\n",
       "        vertical-align: top;\n",
       "    }\n",
       "\n",
       "    .dataframe thead th {\n",
       "        text-align: right;\n",
       "    }\n",
       "</style>\n",
       "<table border=\"1\" class=\"dataframe\">\n",
       "  <thead>\n",
       "    <tr style=\"text-align: right;\">\n",
       "      <th>dept_name</th>\n",
       "      <th>Marketing</th>\n",
       "      <th>Sales</th>\n",
       "    </tr>\n",
       "    <tr>\n",
       "      <th>gender</th>\n",
       "      <th></th>\n",
       "      <th></th>\n",
       "    </tr>\n",
       "  </thead>\n",
       "  <tbody>\n",
       "    <tr>\n",
       "      <th>F</th>\n",
       "      <td>5864</td>\n",
       "      <td>14999</td>\n",
       "    </tr>\n",
       "    <tr>\n",
       "      <th>M</th>\n",
       "      <td>8978</td>\n",
       "      <td>22702</td>\n",
       "    </tr>\n",
       "  </tbody>\n",
       "</table>\n",
       "</div>"
      ],
      "text/plain": [
       "dept_name  Marketing  Sales\n",
       "gender                     \n",
       "F               5864  14999\n",
       "M               8978  22702"
      ]
     },
     "execution_count": 132,
     "metadata": {},
     "output_type": "execute_result"
    }
   ],
   "source": [
    "c = pd.crosstab(sm.gender, sm.dept_name)\n",
    "c"
   ]
  },
  {
   "cell_type": "code",
   "execution_count": 134,
   "id": "6e70c6a4",
   "metadata": {},
   "outputs": [],
   "source": [
    "chi, p , degf, exp = stats.chi2_contingency(c)"
   ]
  },
  {
   "cell_type": "code",
   "execution_count": 135,
   "id": "73fc7de0",
   "metadata": {},
   "outputs": [
    {
     "data": {
      "text/plain": [
       "0.5691938610810126"
      ]
     },
     "execution_count": 135,
     "metadata": {},
     "output_type": "execute_result"
    }
   ],
   "source": [
    "p"
   ]
  },
  {
   "cell_type": "code",
   "execution_count": 136,
   "id": "6bd602eb",
   "metadata": {},
   "outputs": [
    {
     "name": "stdout",
     "output_type": "stream",
     "text": [
      "we fail to reject the null hypothesis. appears to have no relationship\n"
     ]
    }
   ],
   "source": [
    "a = .05\n",
    "if p < a:\n",
    "    print('we reject to null hypothesis. appears to have relationship')\n",
    "else:\n",
    "    print('we fail to reject the null hypothesis. appears to have no relationship')"
   ]
  },
  {
   "cell_type": "markdown",
   "id": "b4c148b2",
   "metadata": {},
   "source": [
    "Is an employee's gender independent of whether or not they are or have been a manager?"
   ]
  },
  {
   "cell_type": "code",
   "execution_count": 108,
   "id": "18e8c5b4",
   "metadata": {},
   "outputs": [],
   "source": [
    "query2 = '''\n",
    "        SELECT *\n",
    "        FROM employees\n",
    "        INNER JOIN dept_manager ON employees.emp_no = dept_manager.emp_no\n",
    "        '''"
   ]
  },
  {
   "cell_type": "code",
   "execution_count": 109,
   "id": "82ae4228",
   "metadata": {},
   "outputs": [],
   "source": [
    "text_query2 = text(query2)"
   ]
  },
  {
   "cell_type": "code",
   "execution_count": 110,
   "id": "2ac9b27f",
   "metadata": {},
   "outputs": [
    {
     "data": {
      "text/html": [
       "<div>\n",
       "<style scoped>\n",
       "    .dataframe tbody tr th:only-of-type {\n",
       "        vertical-align: middle;\n",
       "    }\n",
       "\n",
       "    .dataframe tbody tr th {\n",
       "        vertical-align: top;\n",
       "    }\n",
       "\n",
       "    .dataframe thead th {\n",
       "        text-align: right;\n",
       "    }\n",
       "</style>\n",
       "<table border=\"1\" class=\"dataframe\">\n",
       "  <thead>\n",
       "    <tr style=\"text-align: right;\">\n",
       "      <th></th>\n",
       "      <th>emp_no</th>\n",
       "      <th>birth_date</th>\n",
       "      <th>first_name</th>\n",
       "      <th>last_name</th>\n",
       "      <th>gender</th>\n",
       "      <th>hire_date</th>\n",
       "      <th>emp_no</th>\n",
       "      <th>dept_no</th>\n",
       "      <th>from_date</th>\n",
       "      <th>to_date</th>\n",
       "    </tr>\n",
       "  </thead>\n",
       "  <tbody>\n",
       "    <tr>\n",
       "      <th>0</th>\n",
       "      <td>110022</td>\n",
       "      <td>1956-09-12</td>\n",
       "      <td>Margareta</td>\n",
       "      <td>Markovitch</td>\n",
       "      <td>M</td>\n",
       "      <td>1985-01-01</td>\n",
       "      <td>110022</td>\n",
       "      <td>d001</td>\n",
       "      <td>1985-01-01</td>\n",
       "      <td>1991-10-01</td>\n",
       "    </tr>\n",
       "    <tr>\n",
       "      <th>1</th>\n",
       "      <td>110039</td>\n",
       "      <td>1963-06-21</td>\n",
       "      <td>Vishwani</td>\n",
       "      <td>Minakawa</td>\n",
       "      <td>M</td>\n",
       "      <td>1986-04-12</td>\n",
       "      <td>110039</td>\n",
       "      <td>d001</td>\n",
       "      <td>1991-10-01</td>\n",
       "      <td>9999-01-01</td>\n",
       "    </tr>\n",
       "    <tr>\n",
       "      <th>2</th>\n",
       "      <td>110085</td>\n",
       "      <td>1959-10-28</td>\n",
       "      <td>Ebru</td>\n",
       "      <td>Alpin</td>\n",
       "      <td>M</td>\n",
       "      <td>1985-01-01</td>\n",
       "      <td>110085</td>\n",
       "      <td>d002</td>\n",
       "      <td>1985-01-01</td>\n",
       "      <td>1989-12-17</td>\n",
       "    </tr>\n",
       "    <tr>\n",
       "      <th>3</th>\n",
       "      <td>110114</td>\n",
       "      <td>1957-03-28</td>\n",
       "      <td>Isamu</td>\n",
       "      <td>Legleitner</td>\n",
       "      <td>F</td>\n",
       "      <td>1985-01-14</td>\n",
       "      <td>110114</td>\n",
       "      <td>d002</td>\n",
       "      <td>1989-12-17</td>\n",
       "      <td>9999-01-01</td>\n",
       "    </tr>\n",
       "    <tr>\n",
       "      <th>4</th>\n",
       "      <td>110183</td>\n",
       "      <td>1953-06-24</td>\n",
       "      <td>Shirish</td>\n",
       "      <td>Ossenbruggen</td>\n",
       "      <td>F</td>\n",
       "      <td>1985-01-01</td>\n",
       "      <td>110183</td>\n",
       "      <td>d003</td>\n",
       "      <td>1985-01-01</td>\n",
       "      <td>1992-03-21</td>\n",
       "    </tr>\n",
       "  </tbody>\n",
       "</table>\n",
       "</div>"
      ],
      "text/plain": [
       "   emp_no  birth_date first_name     last_name gender   hire_date  emp_no  \\\n",
       "0  110022  1956-09-12  Margareta    Markovitch      M  1985-01-01  110022   \n",
       "1  110039  1963-06-21   Vishwani      Minakawa      M  1986-04-12  110039   \n",
       "2  110085  1959-10-28       Ebru         Alpin      M  1985-01-01  110085   \n",
       "3  110114  1957-03-28      Isamu    Legleitner      F  1985-01-14  110114   \n",
       "4  110183  1953-06-24    Shirish  Ossenbruggen      F  1985-01-01  110183   \n",
       "\n",
       "  dept_no   from_date     to_date  \n",
       "0    d001  1985-01-01  1991-10-01  \n",
       "1    d001  1991-10-01  9999-01-01  \n",
       "2    d002  1985-01-01  1989-12-17  \n",
       "3    d002  1989-12-17  9999-01-01  \n",
       "4    d003  1985-01-01  1992-03-21  "
      ]
     },
     "execution_count": 110,
     "metadata": {},
     "output_type": "execute_result"
    }
   ],
   "source": [
    "df = pd.read_sql(text_query2, engine.connect())\n",
    "df.head()"
   ]
  },
  {
   "cell_type": "code",
   "execution_count": 120,
   "id": "623a5ec2",
   "metadata": {},
   "outputs": [],
   "source": [
    "all_mgrs = df.from_date <= df.from_date.max()"
   ]
  },
  {
   "cell_type": "code",
   "execution_count": 121,
   "id": "f6d937d3",
   "metadata": {},
   "outputs": [
    {
     "data": {
      "text/plain": [
       "True    24\n",
       "Name: from_date, dtype: int64"
      ]
     },
     "execution_count": 121,
     "metadata": {},
     "output_type": "execute_result"
    }
   ],
   "source": [
    "all_mgrs.value_counts()"
   ]
  },
  {
   "cell_type": "code",
   "execution_count": 127,
   "id": "99c17539",
   "metadata": {},
   "outputs": [
    {
     "data": {
      "text/html": [
       "<div>\n",
       "<style scoped>\n",
       "    .dataframe tbody tr th:only-of-type {\n",
       "        vertical-align: middle;\n",
       "    }\n",
       "\n",
       "    .dataframe tbody tr th {\n",
       "        vertical-align: top;\n",
       "    }\n",
       "\n",
       "    .dataframe thead th {\n",
       "        text-align: right;\n",
       "    }\n",
       "</style>\n",
       "<table border=\"1\" class=\"dataframe\">\n",
       "  <thead>\n",
       "    <tr style=\"text-align: right;\">\n",
       "      <th>from_date</th>\n",
       "      <th>True</th>\n",
       "    </tr>\n",
       "    <tr>\n",
       "      <th>gender</th>\n",
       "      <th></th>\n",
       "    </tr>\n",
       "  </thead>\n",
       "  <tbody>\n",
       "    <tr>\n",
       "      <th>F</th>\n",
       "      <td>13</td>\n",
       "    </tr>\n",
       "    <tr>\n",
       "      <th>M</th>\n",
       "      <td>11</td>\n",
       "    </tr>\n",
       "  </tbody>\n",
       "</table>\n",
       "</div>"
      ],
      "text/plain": [
       "from_date  True\n",
       "gender         \n",
       "F            13\n",
       "M            11"
      ]
     },
     "execution_count": 127,
     "metadata": {},
     "output_type": "execute_result"
    }
   ],
   "source": [
    "ctt = pd.crosstab(df.gender, all_mgrs)\n",
    "ctt"
   ]
  },
  {
   "cell_type": "code",
   "execution_count": 124,
   "id": "9a7ab0af",
   "metadata": {},
   "outputs": [],
   "source": [
    "chi, p , degf, exp = stats.chi2_contingency(ctt)"
   ]
  },
  {
   "cell_type": "code",
   "execution_count": 126,
   "id": "3df717af",
   "metadata": {},
   "outputs": [
    {
     "data": {
      "text/plain": [
       "1.0"
      ]
     },
     "execution_count": 126,
     "metadata": {},
     "output_type": "execute_result"
    }
   ],
   "source": [
    "p"
   ]
  },
  {
   "cell_type": "code",
   "execution_count": 128,
   "id": "4a905eba",
   "metadata": {},
   "outputs": [
    {
     "name": "stdout",
     "output_type": "stream",
     "text": [
      "we fail to reject the null hypothesis. appears to have no relationship\n"
     ]
    }
   ],
   "source": [
    "a = .05\n",
    "if p < a:\n",
    "    print('we reject to null hypothesis. appears to have relationship')\n",
    "else:\n",
    "    print('we fail to reject the null hypothesis. appears to have no relationship')"
   ]
  },
  {
   "cell_type": "code",
   "execution_count": null,
   "id": "4529c652",
   "metadata": {},
   "outputs": [],
   "source": []
  }
 ],
 "metadata": {
  "kernelspec": {
   "display_name": "Python 3 (ipykernel)",
   "language": "python",
   "name": "python3"
  },
  "language_info": {
   "codemirror_mode": {
    "name": "ipython",
    "version": 3
   },
   "file_extension": ".py",
   "mimetype": "text/x-python",
   "name": "python",
   "nbconvert_exporter": "python",
   "pygments_lexer": "ipython3",
   "version": "3.10.9"
  }
 },
 "nbformat": 4,
 "nbformat_minor": 5
}
